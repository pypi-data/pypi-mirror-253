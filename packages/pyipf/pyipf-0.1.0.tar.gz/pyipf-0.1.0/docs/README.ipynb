{
 "cells": [
  {
   "cell_type": "markdown",
   "id": "fbb55ece-bee8-4706-85f7-5fbd9e24c666",
   "metadata": {},
   "source": [
    "# PyIPF\n",
    "This package is a simple, lightweight function for Iterative Proportional Fitting (IPF) in Python, leveraging numpy."
   ]
  },
  {
   "cell_type": "markdown",
   "id": "44f09206-3de2-46ec-9850-107a5d9fc022",
   "metadata": {},
   "source": [
    "## Examples"
   ]
  },
  {
   "cell_type": "code",
   "execution_count": 1,
   "id": "1f4cbcae-869d-4ee2-b06b-cd2e4a2805b8",
   "metadata": {},
   "outputs": [],
   "source": [
    "import numpy as np\n",
    "import pyipf"
   ]
  },
  {
   "cell_type": "markdown",
   "id": "15d933cc-ba1e-48bb-a501-d1d915a3682a",
   "metadata": {},
   "source": [
    "Generate a dummy 2-D matrix, calculate the marginals and fit another random matrix to these marginals."
   ]
  },
  {
   "cell_type": "code",
   "execution_count": 2,
   "id": "f81a7022-e635-4646-8a9f-8564cf1b2506",
   "metadata": {},
   "outputs": [],
   "source": [
    "dims = (4, 5)\n",
    "\n",
    "# Target matrix\n",
    "M = np.random.lognormal(size=dims)\n",
    "\n",
    "m0 = M.sum(axis=0)\n",
    "m1 = M.sum(axis=1)\n",
    "marginals = [m0, m1]\n",
    "\n",
    "# Initial matrix\n",
    "M0 = np.random.lognormal(size=dims)"
   ]
  },
  {
   "cell_type": "code",
   "execution_count": 3,
   "id": "1a3f4b8a-7253-4fd3-b331-9dbf5dcc8888",
   "metadata": {},
   "outputs": [
    {
     "data": {
      "text/plain": [
       "array([[1.48113251, 0.55856014, 2.08747773, 0.56021773, 1.03206795],\n",
       "       [0.69822861, 1.55448881, 4.81882003, 1.21310727, 0.97432328],\n",
       "       [1.09937593, 3.3163754 , 4.32870335, 3.96402992, 2.94410888],\n",
       "       [0.14960558, 0.41166272, 2.26674958, 0.3578438 , 0.24096606]])"
      ]
     },
     "execution_count": 3,
     "metadata": {},
     "output_type": "execute_result"
    }
   ],
   "source": [
    "M1 = pyipf.ipf(M0, marginals)\n",
    "M1"
   ]
  },
  {
   "cell_type": "markdown",
   "id": "dbed8ab2-1137-46a3-beec-df73fc7bd327",
   "metadata": {},
   "source": [
    "Compare fitted and target marginals:"
   ]
  },
  {
   "cell_type": "code",
   "execution_count": 4,
   "id": "2d2fd3ce-0ac5-48e2-ab4c-5de895458c2a",
   "metadata": {},
   "outputs": [
    {
     "name": "stdout",
     "output_type": "stream",
     "text": [
      "Target, axis 0:\n",
      " [ 3.4286093   5.84075267 13.50264179  6.09463002  5.19121148]\n",
      "Marginal of adjusted matrix, axis 0:\n",
      " [ 3.42834263  5.84108707 13.50175069  6.09519871  5.19146617] \n",
      "\n",
      "Target, axis 1:\n",
      " [ 5.71945605  9.258968   15.65259348  3.42682773]\n",
      "Marginal of adjusted matrix, axis 1:\n",
      " [ 5.71945605  9.258968   15.65259348  3.42682773]\n"
     ]
    }
   ],
   "source": [
    "print('Target, axis 0:\\n', m0)\n",
    "print('Marginal of adjusted matrix, axis 0:\\n', M1.sum(axis=0), '\\n')\n",
    "print('Target, axis 1:\\n', m1)\n",
    "print('Marginal of adjusted matrix, axis 1:\\n', M1.sum(axis=1))"
   ]
  },
  {
   "cell_type": "markdown",
   "id": "95a04f78-4be9-4461-a31e-54910cf4ecf5",
   "metadata": {},
   "source": [
    "Generate a dummy 3-D matrix, calculate the marginals and fit another random matrix to these marginals, specifying convergence tolerance."
   ]
  },
  {
   "cell_type": "code",
   "execution_count": 5,
   "id": "729ffe67-fa33-4fa9-87eb-c58d91705221",
   "metadata": {},
   "outputs": [],
   "source": [
    "dims = (3, 4, 5)\n",
    "\n",
    "# Target matrix\n",
    "M = np.random.lognormal(size=dims)\n",
    "\n",
    "m0 = M.sum(axis=0)\n",
    "m1 = M.sum(axis=1)\n",
    "m2 = M.sum(axis=2)\n",
    "marginals = [m0, m1, m2]\n",
    "\n",
    "# Initial matrix\n",
    "M0 = np.random.lognormal(size=dims)"
   ]
  },
  {
   "cell_type": "code",
   "execution_count": 6,
   "id": "1f2996a8-21c8-47d0-9167-4b2baf1e81d9",
   "metadata": {},
   "outputs": [
    {
     "data": {
      "text/plain": [
       "array([[[ 6.90520184,  0.19622997,  0.50768919,  0.13275736,\n",
       "          0.9293064 ],\n",
       "        [ 0.32222376,  0.47374635,  1.4574094 ,  0.41314916,\n",
       "          1.49357124],\n",
       "        [ 5.50093779,  2.30097208,  0.83291671,  2.06222807,\n",
       "          4.76761113],\n",
       "        [ 1.05853495,  1.48787403,  2.28223884,  0.82394211,\n",
       "          0.37148028]],\n",
       "\n",
       "       [[ 2.34378896,  1.64056743,  1.00887538, 11.19510664,\n",
       "          2.13286317],\n",
       "        [ 3.02598556,  2.57129926,  0.49945323,  0.71899295,\n",
       "          2.69610131],\n",
       "        [ 1.43239667,  0.39328493,  1.32521908,  5.47897728,\n",
       "          1.20718297],\n",
       "        [ 0.25718674,  3.29791467,  0.2144161 ,  0.72681184,\n",
       "          0.09525226]],\n",
       "\n",
       "       [[ 1.53875623,  0.99582773,  0.81303361,  3.33673096,\n",
       "          1.07546425],\n",
       "        [ 0.08839578,  0.37560561,  0.52715961,  0.14010666,\n",
       "          3.33154548],\n",
       "        [ 2.47620309,  1.12473498,  0.05954928,  0.37551812,\n",
       "          0.81860914],\n",
       "        [ 0.17524599,  0.85283704,  0.58042856,  0.05153553,\n",
       "          0.5125593 ]]])"
      ]
     },
     "execution_count": 6,
     "metadata": {},
     "output_type": "execute_result"
    }
   ],
   "source": [
    "M1 = pyipf.ipf(M0, marginals, tol_convg=1e-6, convg='relative')\n",
    "M1"
   ]
  },
  {
   "cell_type": "markdown",
   "id": "40eefa47-0ec1-4b53-ac83-9ecd5a850804",
   "metadata": {},
   "source": [
    "Compare fitted and target marginals:"
   ]
  },
  {
   "cell_type": "code",
   "execution_count": 7,
   "id": "6cd89e1d-06f2-4a0a-aaa3-9d9cf6451b56",
   "metadata": {},
   "outputs": [
    {
     "name": "stdout",
     "output_type": "stream",
     "text": [
      "[[10.7877543   2.83262409  2.32959835 14.66458809  4.13763429]\n",
      " [ 3.43660833  3.42064997  2.48402144  1.27224901  7.52121662]\n",
      " [ 9.40953466  3.81899429  2.21768484  7.91672545  6.79340209]\n",
      " [ 1.49096686  5.63862699  3.07708226  1.60229052  0.97929161]]\n",
      "[[10.78774703  2.83262512  2.32959818 14.66459496  4.13763382]\n",
      " [ 3.4366051   3.42065123  2.48402225  1.27224877  7.52121803]\n",
      " [ 9.40953755  3.81899199  2.21768507  7.91672348  6.79340324]\n",
      " [ 1.49096768  5.63862573  3.0770835   1.60228948  0.97929185]] \n",
      "\n",
      "[[13.78690471  4.45882067  5.08025209  3.43207544  7.56196774]\n",
      " [ 7.05935806  7.90306938  3.04796382 18.11988552  6.13139968]\n",
      " [ 4.27860138  3.34900529  1.98017098  3.90389211  5.73817719]]\n",
      "[[13.78689833  4.45882243  5.08025414  3.4320767   7.56196906]\n",
      " [ 7.05935793  7.90306629  3.04796379 18.11988872  6.13139972]\n",
      " [ 4.27860109  3.34900536  1.98017106  3.90389127  5.73817816]] \n",
      "\n",
      "[[ 8.67118475  4.16009991 15.46466578  6.02407021]\n",
      " [18.32120159  9.51183232  9.83706094  4.59158162]\n",
      " [ 7.75981277  4.46281315  4.8546146   2.17260643]]\n",
      "[[ 8.67118475  4.16009991 15.46466578  6.02407021]\n",
      " [18.32120159  9.51183232  9.83706094  4.59158162]\n",
      " [ 7.75981277  4.46281315  4.8546146   2.17260643]] \n",
      "\n"
     ]
    }
   ],
   "source": [
    "print(m0)\n",
    "print(M1.sum(axis=0), '\\n')\n",
    "print(m1)\n",
    "print(M1.sum(axis=1), '\\n')\n",
    "print(m2)\n",
    "print(M1.sum(axis=2), '\\n')"
   ]
  }
 ],
 "metadata": {
  "kernelspec": {
   "display_name": "Python 3 (ipykernel)",
   "language": "python",
   "name": "python3"
  },
  "language_info": {
   "codemirror_mode": {
    "name": "ipython",
    "version": 3
   },
   "file_extension": ".py",
   "mimetype": "text/x-python",
   "name": "python",
   "nbconvert_exporter": "python",
   "pygments_lexer": "ipython3",
   "version": "3.11.6"
  }
 },
 "nbformat": 4,
 "nbformat_minor": 5
}
