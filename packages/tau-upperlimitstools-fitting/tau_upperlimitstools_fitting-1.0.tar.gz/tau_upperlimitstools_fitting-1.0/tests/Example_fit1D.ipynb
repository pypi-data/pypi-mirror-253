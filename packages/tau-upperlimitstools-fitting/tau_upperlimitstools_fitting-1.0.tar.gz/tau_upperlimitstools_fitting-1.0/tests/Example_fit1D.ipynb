{
 "cells": [
  {
   "cell_type": "markdown",
   "id": "previous-valve",
   "metadata": {},
   "source": [
    "# Example Fit 1D using tau_upperlimitstools_fitting module"
   ]
  },
  {
   "cell_type": "code",
   "execution_count": 1,
   "id": "considered-canberra",
   "metadata": {},
   "outputs": [
    {
     "name": "stdout",
     "output_type": "stream",
     "text": [
      "Welcome to JupyROOT 6.26/02\n"
     ]
    }
   ],
   "source": [
    "import ROOT"
   ]
  },
  {
   "cell_type": "code",
   "execution_count": 2,
   "id": "funded-fitness",
   "metadata": {},
   "outputs": [],
   "source": [
    "import tau_upperlimitstools_fitting as tau_tools"
   ]
  },
  {
   "cell_type": "markdown",
   "id": "colonial-protest",
   "metadata": {},
   "source": [
    "### Create input histograms"
   ]
  },
  {
   "cell_type": "code",
   "execution_count": 3,
   "id": "synthetic-viewer",
   "metadata": {},
   "outputs": [],
   "source": [
    "h1sig=tau_tools.create_gauss_histogram_1D( gauss_mean = 5,\n",
    "                                      gauss_sigma= 1,\n",
    "                                      gauss_events = 2000,\n",
    "                                      hist_ranges = [0,10],\n",
    "                                      hist_name = \"x_sig\",\n",
    "                                      hist_bins=100 )\n",
    "\n",
    "h1bkg=tau_tools.create_exponential_histogram_1D(exp_scale=4,\n",
    "                                           exp_events = 2000,\n",
    "                                           hist_ranges = [0,10],\n",
    "                                           hist_name = \"x_bkg\",\n",
    "                                           hist_bins=100 )"
   ]
  },
  {
   "cell_type": "markdown",
   "id": "british-fence",
   "metadata": {},
   "source": [
    "Cheking distributions"
   ]
  },
  {
   "cell_type": "code",
   "execution_count": 4,
   "id": "opening-legend",
   "metadata": {},
   "outputs": [
    {
     "data": {
      "image/png": "[encoded data removed]",
      "text/plain": [
       "<IPython.core.display.Image object>"
      ]
     },
     "metadata": {},
     "output_type": "display_data"
    }
   ],
   "source": [
    "h1bkg.SetLineColor(6)\n",
    "canvas_0 = ROOT.TCanvas(\"canvas_0\",\"canvas_0\", 800, 600)\n",
    "h1sig.Draw(\"\")\n",
    "h1bkg.Draw(\"same\")\n",
    "canvas_0.Draw()"
   ]
  },
  {
   "cell_type": "markdown",
   "id": "integral-worst",
   "metadata": {},
   "source": [
    "### Specification of the extended s+b model  (from histogram templates)"
   ]
  },
  {
   "cell_type": "markdown",
   "id": "fallen-angola",
   "metadata": {},
   "source": [
    "Generation of pseudo data given the initial number of events as given in the `yield_values` dictionary is activated\n",
    "\n",
    "Include binned data is activated"
   ]
  },
  {
   "cell_type": "code",
   "execution_count": 5,
   "id": "interpreted-discount",
   "metadata": {
    "tags": []
   },
   "outputs": [],
   "source": [
    "model_configuration={'model_sb': {'signal': \n",
    "                                        {'histogram':h1sig, \n",
    "                                         'pdf_name':'signal_pdf', \n",
    "                                         'nsig_yield_range':'[-20,1000]'}, \n",
    "                                  'background':{'histogram':h1bkg, \n",
    "                                                'pdf_name':'background_pdf',\n",
    "                                                'nbkg_yield_range':'[-10,3000]'},\n",
    "                                  'variables_names':['x_var'],\n",
    "                                  'variables_ranges':['[0,10]'],\n",
    "                                  'dimension':\"1D\",\n",
    "                                  'generate_data': True,\n",
    "                                  'include_binned_data':True,\n",
    "                                  'data_bins' : 100, \n",
    "                                  'pseudo_data_yields':{'n_sig':1, 'n_bkg':2000}\n",
    "                                 }\n",
    "                    }"
   ]
  },
  {
   "cell_type": "code",
   "execution_count": 6,
   "id": "universal-representative",
   "metadata": {},
   "outputs": [
    {
     "data": {
      "text/plain": [
       "dict_keys(['signal', 'background', 'variables_names', 'variables_ranges', 'dimension', 'generate_data', 'include_binned_data', 'data_bins', 'pseudo_data_yields'])"
      ]
     },
     "execution_count": 6,
     "metadata": {},
     "output_type": "execute_result"
    }
   ],
   "source": [
    "model_configuration['model_sb'].keys()"
   ]
  },
  {
   "cell_type": "code",
   "execution_count": 7,
   "id": "pending-scholar",
   "metadata": {},
   "outputs": [
    {
     "name": "stdout",
     "output_type": "stream",
     "text": [
      "Creating HistPDFs\n",
      "Creating model in WorkSpace\n",
      "[#1] INFO:ObjectHandling -- RooWorkspace::import(myWorkSpace) importing dataset datahist_vars_signal\n",
      "[#1] INFO:ObjectHandling -- RooWorkspace::import(myWorkSpace) importing RooHistPdf::signal_pdf\n",
      "[#1] INFO:ObjectHandling -- RooWorkspace::import(myWorkSpace) importing dataset datahist_vars_background\n",
      "[#1] INFO:ObjectHandling -- RooWorkspace::import(myWorkSpace) importing RooHistPdf::background_pdf\n",
      "[#1] INFO:ObjectHandling -- RooWorkspace::import(myWorkSpace) importing dataset pseudo_data\n",
      "[#1] INFO:ObjectHandling -- RooWorkspace::import(myWorkSpace) importing dataset pseudo_data_binned\n"
     ]
    }
   ],
   "source": [
    "# Create the workspace given the dictionary created before, and  Add model configuration to the workspace\n",
    "mywspace = tau_tools.create_workspace_extended(model_configuration)"
   ]
  },
  {
   "cell_type": "code",
   "execution_count": 8,
   "id": "employed-confidentiality",
   "metadata": {},
   "outputs": [
    {
     "name": "stdout",
     "output_type": "stream",
     "text": [
      "\n",
      "RooWorkspace(myWorkSpace) myWorkSpace contents\n",
      "\n",
      "variables\n",
      "---------\n",
      "(n_bkg,n_sig,x_var)\n",
      "\n",
      "p.d.f.s\n",
      "-------\n",
      "RooHistPdf::background_pdf[ pdfObs=(x_var) ] = 180\n",
      "RooAddPdf::model_sb[ n_sig * signal_pdf + n_bkg * background_pdf ] = 180.335\n",
      "RooHistPdf::signal_pdf[ pdfObs=(x_var) ] = 850\n",
      "\n",
      "datasets\n",
      "--------\n",
      "RooDataSet::pseudo_data(x_var)\n",
      "RooDataHist::pseudo_data_binned(x_var)\n",
      "\n",
      "embedded datasets (in pdfs and functions)\n",
      "-----------------------------------------\n",
      "RooDataHist::datahist_vars_signal(x_var)\n",
      "RooDataHist::datahist_vars_background(x_var)\n",
      "\n",
      "named sets\n",
      "----------\n",
      "ModelConfig_NuisParams:(n_bkg)\n",
      "ModelConfig_Observables:(x_var)\n",
      "ModelConfig_POI:(n_sig)\n",
      "\n",
      "generic objects\n",
      "---------------\n",
      "RooStats::ModelConfig::ModelConfig\n",
      "\n"
     ]
    }
   ],
   "source": [
    "mywspace.Print()"
   ]
  },
  {
   "cell_type": "markdown",
   "id": "settled-behalf",
   "metadata": {},
   "source": [
    "Note: \n",
    "<br>\n",
    "After setting the values for generate_pseudodata_fromW, this will be the initial points for the FIT"
   ]
  },
  {
   "cell_type": "code",
   "execution_count": 9,
   "id": "rough-simple",
   "metadata": {},
   "outputs": [
    {
     "name": "stdout",
     "output_type": "stream",
     "text": [
      "1.0\n",
      "2000.0\n"
     ]
    }
   ],
   "source": [
    "print(mywspace.var(\"n_sig\").getVal())\n",
    "print(mywspace.var(\"n_bkg\").getVal())"
   ]
  },
  {
   "cell_type": "markdown",
   "id": "creative-field",
   "metadata": {},
   "source": [
    "### Fit to the pseudo_data"
   ]
  },
  {
   "cell_type": "code",
   "execution_count": 10,
   "id": "absolute-michigan",
   "metadata": {},
   "outputs": [
    {
     "name": "stdout",
     "output_type": "stream",
     "text": [
      "[#1] INFO:Minimization -- createConstraintTerm: caching constraint set under name CACHE_CONSTR_OF_PDF_model_sb_FOR_OBS_x_var with 0 entries\n",
      "[#1] INFO:Minimization -- RooAbsMinimizerFcn::setOptimizeConst: activating const optimization\n",
      "[#1] INFO:Eval -- RooAbsTestStatistic::initMPMode: started 12 remote server process.\n",
      "[#1] INFO:Minimization --  The following expressions have been identified as constant and will be precalculated and cached: (signal_pdf,background_pdf)\n",
      "[#1] INFO:Minimization --  The following expressions have been identified as constant and will be precalculated and cached: (signal_pdf,background_pdf)\n",
      "[#1] INFO:Minimization --  The following expressions have been identified as constant and will be precalculated and cached: (signal_pdf,background_pdf)\n",
      "[#1] INFO:Minimization --  The following expressions have been identified as constant and will be precalculated and cached: (signal_pdf,background_pdf)\n",
      "[#1] INFO:Minimization --  The following expressions have been identified as constant and will be precalculated and cached: (signal_pdf,background_pdf)\n",
      "[#1] INFO:Minimization --  The following expressions have been identified as constant and will be precalculated and cached: (signal_pdf,background_pdf)\n",
      "[#1] INFO:Minimization --  The following expressions have been identified as constant and will be precalculated and cached: (signal_pdf,background_pdf)\n",
      "[#1] INFO:Minimization --  The following expressions have been identified as constant and will be precalculated and cached: (signal_pdf,background_pdf)\n",
      "[#1] INFO:Minimization --  The following expressions have been identified as constant and will be precalculated and cached: (signal_pdf,background_pdf)\n",
      "[#1] INFO:Minimization --  The following expressions have been identified as constant and will be precalculated and cached: (signal_pdf,background_pdf)\n",
      "[#1] INFO:Minimization --  The following expressions have been identified as constant and will be precalculated and cached: (signal_pdf,background_pdf)\n",
      "[#1] INFO:Minimization --  The following expressions have been identified as constant and will be precalculated and cached: (signal_pdf,background_pdf)\n",
      "[#1] INFO:Minimization -- RooAbsMinimizerFcn::setOptimizeConst: deactivating const optimization\n"
     ]
    }
   ],
   "source": [
    "pdf = mywspace.pdf('model_sb')\n",
    "data = mywspace.data(\"pseudo_data\")\n",
    "#Specify configuration for fitting, default minuit/migrat y strategy 1\n",
    "fitResult = pdf.fitTo(data,\n",
    "                      ROOT.RooFit.Extended(True),\n",
    "                      ROOT.RooFit.Minos(True),\n",
    "                      ROOT.RooFit.SumW2Error(False), \n",
    "                      ROOT.RooFit.Save(True), \n",
    "                      ROOT.RooFit.NumCPU(12),\n",
    "                      ROOT.RooFit.PrintLevel(-1))"
   ]
  },
  {
   "cell_type": "code",
   "execution_count": 11,
   "id": "relative-representative",
   "metadata": {},
   "outputs": [
    {
     "data": {
      "image/png": "[encoded data removed]",
      "text/plain": [
       "<IPython.core.display.Image object>"
      ]
     },
     "metadata": {},
     "output_type": "display_data"
    }
   ],
   "source": [
    "c3 = ROOT.TCanvas(\"DataHist\",\"DataHist\", 800, 600)\n",
    "frame = mywspace.var(model_configuration['model_sb']['variables_names'][0]).frame()\n",
    "data.plotOn(frame)\n",
    "pdf.plotOn(frame)\n",
    "pdf.paramOn(frame,ROOT.RooFit.Layout(0.32, 0.47, 0.9))\n",
    "frame.Draw()\n",
    "c3.Draw()"
   ]
  },
  {
   "cell_type": "code",
   "execution_count": 12,
   "id": "relative-railway",
   "metadata": {},
   "outputs": [
    {
     "name": "stdout",
     "output_type": "stream",
     "text": [
      "\n",
      "  RooFitResult: minimized FCN value: -9145.87, estimated distance to minimum: 9.36546e-06\n",
      "                covariance matrix quality: Full, accurate covariance matrix\n",
      "                Status : MINIMIZE=0 HESSE=0 MINOS=0 \n",
      "\n",
      "    Floating Parameter    FinalValue +/-  Error   \n",
      "  --------------------  --------------------------\n",
      "                 n_bkg    2.0143e+03 +/-  5.22e+01\n",
      "                 n_sig   -1.3155e+01 +/-  2.59e+01\n",
      "\n"
     ]
    }
   ],
   "source": [
    "fitResult.Print()"
   ]
  },
  {
   "cell_type": "markdown",
   "id": "decimal-quick",
   "metadata": {},
   "source": [
    "Note: \n",
    "<br>\n",
    "After the fit n_sig is updated, this will be the value in the workspace."
   ]
  },
  {
   "cell_type": "code",
   "execution_count": 13,
   "id": "worldwide-original",
   "metadata": {},
   "outputs": [
    {
     "name": "stdout",
     "output_type": "stream",
     "text": [
      "-------------------------------------------\n",
      "A small edm value indicates effective convergence of the fit.\n",
      "edm 9.365461643238892e-06 \n",
      "\n",
      "A low minNll value indicates a successful fit finding a good description for the data.\n",
      "minNll -9145.867513870624 \n",
      "\n",
      "A value of 0 typically indicates a successful fit.\n",
      "status 0 \n",
      "\n",
      "A high covQual value (3) indicates good quality of the covariance matrix.\n",
      "covQual 3 \n",
      "\n",
      "A value of 0 suggests that all likelihood evaluations were valid.\n",
      "numInvalidNll 0 \n",
      "\n",
      "--------------------------------------------\n"
     ]
    }
   ],
   "source": [
    "tau_tools.check_status_fit(fitResult)"
   ]
  },
  {
   "cell_type": "markdown",
   "id": "demanding-message",
   "metadata": {},
   "source": [
    "### Save the workspace in a root file"
   ]
  },
  {
   "cell_type": "code",
   "execution_count": 14,
   "id": "separated-costa",
   "metadata": {},
   "outputs": [
    {
     "name": "stdout",
     "output_type": "stream",
     "text": [
      "Workspace saved to workspace_model_sb.root with the name myWorkSpace\n"
     ]
    }
   ],
   "source": [
    "#Save the WorkSpace in a root file to used later\n",
    "tau_tools.save_myworkspace_infile(mywspace)"
   ]
  }
 ],
 "metadata": {
  "kernelspec": {
   "display_name": "Python [conda env:newroot26]",
   "language": "python",
   "name": "conda-env-newroot26-py"
  },
  "language_info": {
   "codemirror_mode": {
    "name": "ipython",
    "version": 3
   },
   "file_extension": ".py",
   "mimetype": "text/x-python",
   "name": "python",
   "nbconvert_exporter": "python",
   "pygments_lexer": "ipython3",
   "version": "3.10.4"
  }
 },
 "nbformat": 4,
 "nbformat_minor": 5
}
