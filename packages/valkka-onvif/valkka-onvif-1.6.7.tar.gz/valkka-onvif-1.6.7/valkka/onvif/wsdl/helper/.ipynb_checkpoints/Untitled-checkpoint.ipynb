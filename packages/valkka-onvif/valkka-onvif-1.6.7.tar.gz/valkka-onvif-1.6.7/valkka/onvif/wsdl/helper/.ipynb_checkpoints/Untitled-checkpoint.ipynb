{
 "cells": [
  {
   "cell_type": "code",
   "execution_count": 1,
   "id": "6e402371-1f2f-43a2-871c-fff4e5000949",
   "metadata": {},
   "outputs": [],
   "source": [
    "import re"
   ]
  },
  {
   "cell_type": "code",
   "execution_count": 50,
   "id": "a3893376-cf09-462a-a280-36081f89fe47",
   "metadata": {},
   "outputs": [
    {
     "name": "stdout",
     "output_type": "stream",
     "text": [
      "\n",
      "<xs:import namespace=\"http://docs.oasis-open.org/wsn/b-2\" schemaLocation=\"http://docs.oasis-open.org/wsn/b-2.xsd\"/>\n",
      "<xs:import namespace=\"http://docs.oasis-open.org/wsn/b-2\" schemaLocation=\"http://docs.oasis-open.org/wsn/b-2.xsd\"/>\n",
      "<xs:import namespace=\"http://www.onvif.org/ver20/analytics/humanface\" schemaLocation=\"../../ver20/analytics/humanface.xsd\"/>\n",
      "<xs:import namespace=\"http://www.onvif.org/ver20/analytics/humanbody\" schemaLocation=\"../../ver20/analytics/humanbody.xsd\"/>\n",
      "\n",
      "m> <re.Match object; span=(59, 114), match='schemaLocation=\"http://docs.oasis-open.org/wsn/b->\n",
      "g1> http://docs.oasis-open.org/wsn\n",
      "g2> b-2.xsd\n",
      "\n",
      "<xs:import namespace=\"http://docs.oasis-open.org/wsn/b-2\" schemaLocation=\"./b-2.xsd\"/>\n",
      "<xs:import namespace=\"http://docs.oasis-open.org/wsn/b-2\" schemaLocation=\"./b-2.xsd\"/>\n",
      "<xs:import namespace=\"http://www.onvif.org/ver20/analytics/humanface\" schemaLocation=\"./humanface.xsd\"/>\n",
      "<xs:import namespace=\"http://www.onvif.org/ver20/analytics/humanbody\" schemaLocation=\"./humanbody.xsd\"/>\n",
      "\n"
     ]
    }
   ],
   "source": [
    "content=\"\"\"\n",
    "<xs:import namespace=\"http://docs.oasis-open.org/wsn/b-2\" schemaLocation=\"http://docs.oasis-open.org/wsn/b-2.xsd\"/>\n",
    "<xs:import namespace=\"http://docs.oasis-open.org/wsn/b-2\" schemaLocation=\"http://docs.oasis-open.org/wsn/b-2.xsd\"/>\n",
    "<xs:import namespace=\"http://www.onvif.org/ver20/analytics/humanface\" schemaLocation=\"../../ver20/analytics/humanface.xsd\"/>\n",
    "<xs:import namespace=\"http://www.onvif.org/ver20/analytics/humanbody\" schemaLocation=\"../../ver20/analytics/humanbody.xsd\"/>\n",
    "\"\"\"\n",
    "print(content)\n",
    "\n",
    "rest=r'schemaLocation=\\\"(.*)\\/(\\S*.\\w{3,4})\\\"'\n",
    "# rest=r'schemaLocation=\"(.*)\"'\n",
    "\n",
    "# rest=r'.*schemaLocation=\"(.*)\"'\n",
    "\n",
    "reg=re.compile(rest)\n",
    "m=reg.search(content)\n",
    "print(\"m>\",m)\n",
    "print(\"g1>\",m.group(1))\n",
    "print(\"g2>\",m.group(2))\n",
    "\n",
    "\n",
    "#result = re.sub(rest, \"\\\\1 <vittu>\", content)\n",
    "#print(result)\n",
    "\n",
    "updated = re.sub(reg, 'schemaLocation=\"./\\\\2\"', content)\n",
    "#print(content)\n",
    "print(updated)"
   ]
  },
  {
   "cell_type": "code",
   "execution_count": null,
   "id": "eaf8c7ab-356c-45cc-a436-6ec87eadacd4",
   "metadata": {},
   "outputs": [],
   "source": []
  }
 ],
 "metadata": {
  "kernelspec": {
   "display_name": "Python 3 (ipykernel)",
   "language": "python",
   "name": "python3"
  },
  "language_info": {
   "codemirror_mode": {
    "name": "ipython",
    "version": 3
   },
   "file_extension": ".py",
   "mimetype": "text/x-python",
   "name": "python",
   "nbconvert_exporter": "python",
   "pygments_lexer": "ipython3",
   "version": "3.10.12"
  }
 },
 "nbformat": 4,
 "nbformat_minor": 5
}
