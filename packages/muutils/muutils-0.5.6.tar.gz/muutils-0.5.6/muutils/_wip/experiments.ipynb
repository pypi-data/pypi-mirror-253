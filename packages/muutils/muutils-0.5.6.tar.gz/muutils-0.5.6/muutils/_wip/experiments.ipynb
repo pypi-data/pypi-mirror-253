{
 "cells": [
  {
   "cell_type": "code",
   "execution_count": 1,
   "metadata": {},
   "outputs": [],
   "source": [
    "import typing\n",
    "import abc\n",
    "from dataclasses import dataclass, asdict\n",
    "import json"
   ]
  },
  {
   "cell_type": "code",
   "execution_count": 25,
   "metadata": {},
   "outputs": [],
   "source": [
    "\n",
    "@dataclass\n",
    "class ModelConfig(metaclass=abc.ABCMeta):\n",
    "\n",
    "\t@classmethod\n",
    "\t@abc.abstractclassmethod\n",
    "\tdef load(cls, obj: dict) -> \"ModelConfig\":\n",
    "\t\traise NotImplementedError\n",
    "\n",
    "\t@abc.abstractmethod\n",
    "\tdef serialize(self) -> dict:\n",
    "\t\traise NotImplementedError\n",
    "\n",
    "\n",
    "\n",
    "T_config = typing.TypeVar(\"T_config\", bound=ModelConfig)\n",
    "class ConfiguredModel(\n",
    "\t\ttyping.Generic[T_config], \n",
    "\t\tmetaclass=abc.ABCMeta,\n",
    "\t):\n",
    "\tconfig_class: type = None\n",
    "\n",
    "\tdef __init__(self, config: T_config):\n",
    "\t\tsuper().__init__()\n",
    "\t\tif self.config_class is None:\n",
    "\t\t\traise NotImplementedError(\"you need to set `config_class` for your model\")\n",
    "\t\tif not isinstance(config, self.config_class):\n",
    "\t\t\traise TypeError(f\"config must be an instance of {self.config_class = }, got {type(config) = }\")\n",
    "\t\tself.config = config\n",
    "\t\tself.data = \"test data\"\n",
    "\n",
    "\tdef save(self) -> None:\n",
    "\t\tprint(json.dumps(dict(\n",
    "\t\t\t\tconfig = self.config.serialize(),\n",
    "\t\t\t\tdata = self.data,\n",
    "\t\t\t),\n",
    "\t\t\tindent=4,\n",
    "\t\t))\n",
    "\t\t\t\n",
    "\n",
    "\t@classmethod\n",
    "\tdef load(cls, data: str) -> \"ConfiguredModel\":\n",
    "\t\tobj = json.loads(data)\n",
    "\t\t# get the config class from the type annotation\n",
    "\t\t# print(typing.get_type_hints(cls))\n",
    "\t\t# config_class = typing.get_type_hints(cls)[\"config\"]\n",
    "\t\t# print(config_class, type(config_class))\n",
    "\t\tprint(f\"{cls.config_class = } {type(cls.config_class) = }\")\n",
    "\t\t# print(f\"{cls.config.__class__ = } {type(cls.config.__class__) = }\")\n",
    "\n",
    "\n",
    "\t\t# config = config_class(**obj[\"config\"])\n",
    "\t\t# model: \"ConfiguredModel\" = cls(config)\n",
    "\t\t# model.data = obj[\"data\"]\n",
    "\t\t# return model"
   ]
  },
  {
   "cell_type": "code",
   "execution_count": 26,
   "metadata": {},
   "outputs": [],
   "source": [
    "@dataclass\n",
    "class MyConfig(ModelConfig):\n",
    "\t\"\"\"basic test GPT config\"\"\"\n",
    "\tn_layers: int\n",
    "\tn_vocab: int\n",
    "\n",
    "\tdef serialize(self) -> dict:\n",
    "\t\treturn asdict(self)\n",
    "\t\n",
    "\t@classmethod\n",
    "\tdef load(cls, obj: dict) -> \"MyGPTConfig\":\n",
    "\t\treturn cls(**obj)\n",
    "\n",
    "class MyGPT(ConfiguredModel[MyConfig]):\n",
    "\n",
    "\tdef __init__(self, config: MyConfig):\n",
    "\t\tsuper().__init__(config)\n",
    "\t\tself.transformer = lambda x: (sum(x), config.n_layers, config.n_vocab)\n",
    "\n",
    "\tdef forward(self, x):\n",
    "\t\treturn self.transformer(x)"
   ]
  },
  {
   "cell_type": "code",
   "execution_count": 27,
   "metadata": {},
   "outputs": [
    {
     "name": "stdout",
     "output_type": "stream",
     "text": [
      "{\n",
      "    \"config\": {\n",
      "        \"n_layers\": 2,\n",
      "        \"n_vocab\": 128\n",
      "    },\n",
      "    \"data\": \"test data\"\n",
      "}\n",
      "cls.config_class = ~T_config type(cls.config_class) = <class 'typing.TypeVar'>\n"
     ]
    }
   ],
   "source": [
    "config: MyConfig = MyConfig(\n",
    "\tn_layers=2,\n",
    "\tn_vocab=128,\n",
    ")\n",
    "\n",
    "model: MyGPT = MyGPT(config)\n",
    "\n",
    "model.save()\n",
    "\n",
    "model.load(\"\"\"{\n",
    "    \"config\": {\n",
    "        \"n_layers\": 2,\n",
    "        \"n_vocab\": 128\n",
    "    },\n",
    "    \"data\": \"test data\"\n",
    "}\"\"\")"
   ]
  }
 ],
 "metadata": {
  "kernelspec": {
   "display_name": "Python 3.10.1 64-bit",
   "language": "python",
   "name": "python3"
  },
  "language_info": {
   "codemirror_mode": {
    "name": "ipython",
    "version": 3
   },
   "file_extension": ".py",
   "mimetype": "text/x-python",
   "name": "python",
   "nbconvert_exporter": "python",
   "pygments_lexer": "ipython3",
   "version": "3.10.1"
  },
  "orig_nbformat": 4,
  "vscode": {
   "interpreter": {
    "hash": "826cdf1d6a1d995932fcc4b02bd7049699ce423053098b308e34496c9b855014"
   }
  }
 },
 "nbformat": 4,
 "nbformat_minor": 2
}
