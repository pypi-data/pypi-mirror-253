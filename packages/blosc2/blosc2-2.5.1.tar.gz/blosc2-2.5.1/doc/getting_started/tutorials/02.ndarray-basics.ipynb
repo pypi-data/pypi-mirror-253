{
 "cells": [
  {
   "cell_type": "markdown",
   "metadata": {},
   "source": [
    "# NDArray: mutidimensional SChunk\n",
    "\n",
    "NDArray functions let users perform different operations with NDArray arrays like setting, copying or slicing them.\n",
    "In this section, we are going to see how to create and manipulate a NDArray array in a simple way.\n"
   ]
  },
  {
   "cell_type": "code",
   "execution_count": 1,
   "metadata": {
    "ExecuteTime": {
     "end_time": "2023-06-21T08:00:27.514693Z",
     "start_time": "2023-06-21T08:00:25.977264Z"
    }
   },
   "outputs": [],
   "source": [
    "import blosc2\n",
    "import numpy as np"
   ]
  },
  {
   "cell_type": "markdown",
   "metadata": {},
   "source": [
    "## Creating an array\n",
    "First, we create an array, with zeros being used as the default value for uninitialized portions of the array.\n"
   ]
  },
  {
   "cell_type": "code",
   "execution_count": 2,
   "metadata": {
    "ExecuteTime": {
     "end_time": "2023-06-21T08:00:27.529955Z",
     "start_time": "2023-06-21T08:00:27.525824Z"
    }
   },
   "outputs": [
    {
     "name": "stdout",
     "output_type": "stream",
     "text": [
      "type    : NDArray\n",
      "shape   : (10000, 10000)\n",
      "chunks  : (512, 1024)\n",
      "blocks  : (128, 256)\n",
      "dtype   : int32\n",
      "cratio  : 65536.00\n",
      "cparams : {'blocksize': 131072,\n",
      " 'clevel': 1,\n",
      " 'codec': <Codec.ZSTD: 5>,\n",
      " 'codec_meta': 0,\n",
      " 'filters': [<Filter.NOFILTER: 0>,\n",
      "             <Filter.NOFILTER: 0>,\n",
      "             <Filter.NOFILTER: 0>,\n",
      "             <Filter.NOFILTER: 0>,\n",
      "             <Filter.NOFILTER: 0>,\n",
      "             <Filter.SHUFFLE: 1>],\n",
      " 'filters_meta': [0, 0, 0, 0, 0, 0],\n",
      " 'nthreads': 2,\n",
      " 'splitmode': <SplitMode.ALWAYS_SPLIT: 1>,\n",
      " 'typesize': 4,\n",
      " 'use_dict': 0}\n",
      "dparams : {'nthreads': 2}\n",
      "\n"
     ]
    }
   ],
   "source": [
    "array = blosc2.zeros((10000, 10000), dtype=np.int32)\n",
    "print(array.info)"
   ]
  },
  {
   "cell_type": "markdown",
   "metadata": {},
   "source": [
    "Note that all the compression and decompression parameters, as well as the chunks and blocks shapes are set to the default.\n",
    "\n",
    "## Reading and writing data\n",
    "We can access and edit NDArray arrays using NumPy."
   ]
  },
  {
   "cell_type": "code",
   "execution_count": 3,
   "metadata": {
    "ExecuteTime": {
     "end_time": "2023-06-21T08:00:27.615080Z",
     "start_time": "2023-06-21T08:00:27.545635Z"
    }
   },
   "outputs": [],
   "source": [
    "array[0, :] = np.arange(10000, dtype=array.dtype)\n",
    "array[:, 0] = np.arange(10000, dtype=array.dtype)"
   ]
  },
  {
   "cell_type": "code",
   "execution_count": 4,
   "metadata": {
    "ExecuteTime": {
     "end_time": "2023-06-21T08:00:27.653568Z",
     "start_time": "2023-06-21T08:00:27.610490Z"
    }
   },
   "outputs": [
    {
     "data": {
      "text/plain": "array(0, dtype=int32)"
     },
     "execution_count": 4,
     "metadata": {},
     "output_type": "execute_result"
    }
   ],
   "source": [
    "array[0, 0]"
   ]
  },
  {
   "cell_type": "code",
   "execution_count": 5,
   "metadata": {
    "ExecuteTime": {
     "end_time": "2023-06-21T08:00:27.808544Z",
     "start_time": "2023-06-21T08:00:27.630087Z"
    }
   },
   "outputs": [
    {
     "data": {
      "text/plain": "array([   0,    1,    2, ..., 9997, 9998, 9999], dtype=int32)"
     },
     "execution_count": 5,
     "metadata": {},
     "output_type": "execute_result"
    }
   ],
   "source": [
    "array[0, :]"
   ]
  },
  {
   "cell_type": "code",
   "execution_count": 6,
   "metadata": {
    "ExecuteTime": {
     "end_time": "2023-06-21T08:00:27.840897Z",
     "start_time": "2023-06-21T08:00:27.718767Z"
    }
   },
   "outputs": [
    {
     "data": {
      "text/plain": "array([   0,    1,    2, ..., 9997, 9998, 9999], dtype=int32)"
     },
     "execution_count": 6,
     "metadata": {},
     "output_type": "execute_result"
    }
   ],
   "source": [
    "array[:, 0]"
   ]
  },
  {
   "cell_type": "code",
   "execution_count": 7,
   "metadata": {
    "ExecuteTime": {
     "end_time": "2023-06-21T08:00:28.455610Z",
     "start_time": "2023-06-21T08:00:28.446765Z"
    }
   },
   "outputs": [
    {
     "data": {
      "text/plain": "array([[   0,    1,    2, ..., 9997, 9998, 9999],\n       [   1,    0,    0, ...,    0,    0,    0],\n       [   2,    0,    0, ...,    0,    0,    0],\n       ...,\n       [9997,    0,    0, ...,    0,    0,    0],\n       [9998,    0,    0, ...,    0,    0,    0],\n       [9999,    0,    0, ...,    0,    0,    0]], dtype=int32)"
     },
     "execution_count": 7,
     "metadata": {},
     "output_type": "execute_result"
    }
   ],
   "source": [
    "array[...]"
   ]
  },
  {
   "cell_type": "markdown",
   "metadata": {},
   "source": [
    "## Persistent data\n",
    "As in the SChunk, when we create a NDArray array, we can specify where it will be stored. Indeed, we can specify all the compression/decompression parameters that we can specify in a SChunk.\n",
    "So as in the SChunk, to store an array on-disk we only have to specify a `urlpath` where to store the new array.\n"
   ]
  },
  {
   "cell_type": "code",
   "execution_count": 8,
   "metadata": {
    "ExecuteTime": {
     "end_time": "2023-06-21T08:00:28.601301Z",
     "start_time": "2023-06-21T08:00:28.456232Z"
    }
   },
   "outputs": [
    {
     "name": "stdout",
     "output_type": "stream",
     "text": [
      "type    : NDArray\n",
      "shape   : (1000, 1000)\n",
      "chunks  : (100, 100)\n",
      "blocks  : (50, 50)\n",
      "dtype   : |S4\n",
      "cratio  : 1111.11\n",
      "cparams : {'blocksize': 10000,\n",
      " 'clevel': 1,\n",
      " 'codec': <Codec.ZSTD: 5>,\n",
      " 'codec_meta': 0,\n",
      " 'filters': [<Filter.NOFILTER: 0>,\n",
      "             <Filter.NOFILTER: 0>,\n",
      "             <Filter.NOFILTER: 0>,\n",
      "             <Filter.NOFILTER: 0>,\n",
      "             <Filter.NOFILTER: 0>,\n",
      "             <Filter.SHUFFLE: 1>],\n",
      " 'filters_meta': [0, 0, 0, 0, 0, 0],\n",
      " 'nthreads': 2,\n",
      " 'splitmode': <SplitMode.ALWAYS_SPLIT: 1>,\n",
      " 'typesize': 4,\n",
      " 'use_dict': 0}\n",
      "dparams : {'nthreads': 2}\n",
      "\n"
     ]
    }
   ],
   "source": [
    "array = blosc2.full((1000, 1000), fill_value=b\"pepe\", chunks=(100, 100), blocks=(50, 50),\n",
    "             urlpath=\"ndarray_tutorial.b2nd\", mode=\"w\")\n",
    "print(array.info)"
   ]
  },
  {
   "cell_type": "markdown",
   "metadata": {},
   "source": [
    "This time we even set the chunks and blocks shapes. You can now open it with modes `w`, `a` or `r`."
   ]
  },
  {
   "cell_type": "code",
   "execution_count": 9,
   "metadata": {
    "ExecuteTime": {
     "end_time": "2023-06-21T08:00:28.617083Z",
     "start_time": "2023-06-21T08:00:28.605561Z"
    }
   },
   "outputs": [
    {
     "name": "stdout",
     "output_type": "stream",
     "text": [
      "type    : NDArray\n",
      "shape   : (1000, 1000)\n",
      "chunks  : (100, 100)\n",
      "blocks  : (50, 50)\n",
      "dtype   : |S4\n",
      "cratio  : 1111.11\n",
      "cparams : {'blocksize': 10000,\n",
      " 'clevel': 1,\n",
      " 'codec': <Codec.ZSTD: 5>,\n",
      " 'codec_meta': 0,\n",
      " 'filters': [<Filter.NOFILTER: 0>,\n",
      "             <Filter.NOFILTER: 0>,\n",
      "             <Filter.NOFILTER: 0>,\n",
      "             <Filter.NOFILTER: 0>,\n",
      "             <Filter.NOFILTER: 0>,\n",
      "             <Filter.SHUFFLE: 1>],\n",
      " 'filters_meta': [0, 0, 0, 0, 0, 0],\n",
      " 'nthreads': 2,\n",
      " 'splitmode': <SplitMode.ALWAYS_SPLIT: 1>,\n",
      " 'typesize': 4,\n",
      " 'use_dict': 0}\n",
      "dparams : {'nthreads': 2}\n",
      "\n"
     ]
    }
   ],
   "source": [
    "array2 = blosc2.open(\"ndarray_tutorial.b2nd\")\n",
    "print(array2.info)"
   ]
  },
  {
   "cell_type": "markdown",
   "metadata": {},
   "source": [
    "## Compression params\n",
    "Here we can see how when we make a copy of a NDArray array we can change its compression parameters in an easy way."
   ]
  },
  {
   "cell_type": "code",
   "execution_count": 10,
   "metadata": {
    "ExecuteTime": {
     "end_time": "2023-06-21T08:00:28.845784Z",
     "start_time": "2023-06-21T08:00:28.828465Z"
    }
   },
   "outputs": [
    {
     "name": "stdout",
     "output_type": "stream",
     "text": [
      "type    : NDArray\n",
      "shape   : (1000, 1000)\n",
      "chunks  : (500, 10)\n",
      "blocks  : (50, 10)\n",
      "dtype   : int64\n",
      "cratio  : 7.45\n",
      "cparams : {'blocksize': 4000,\n",
      " 'clevel': 1,\n",
      " 'codec': <Codec.ZSTD: 5>,\n",
      " 'codec_meta': 0,\n",
      " 'filters': [<Filter.NOFILTER: 0>,\n",
      "             <Filter.NOFILTER: 0>,\n",
      "             <Filter.NOFILTER: 0>,\n",
      "             <Filter.NOFILTER: 0>,\n",
      "             <Filter.NOFILTER: 0>,\n",
      "             <Filter.SHUFFLE: 1>],\n",
      " 'filters_meta': [0, 0, 0, 0, 0, 0],\n",
      " 'nthreads': 2,\n",
      " 'splitmode': <SplitMode.ALWAYS_SPLIT: 1>,\n",
      " 'typesize': 8,\n",
      " 'use_dict': 0}\n",
      "dparams : {'nthreads': 2}\n",
      "\n"
     ]
    }
   ],
   "source": [
    "b = np.arange(1000000).tobytes()\n",
    "array1 = blosc2.frombuffer(b, shape=(1000, 1000), dtype=np.int64, chunks=(500, 10), blocks=(50, 10))\n",
    "print(array1.info)"
   ]
  },
  {
   "cell_type": "code",
   "execution_count": 11,
   "metadata": {
    "ExecuteTime": {
     "end_time": "2023-06-21T08:00:32.398765Z",
     "start_time": "2023-06-21T08:00:32.393854Z"
    }
   },
   "outputs": [
    {
     "name": "stdout",
     "output_type": "stream",
     "text": [
      "type    : NDArray\n",
      "shape   : (1000, 1000)\n",
      "chunks  : (500, 10)\n",
      "blocks  : (50, 10)\n",
      "dtype   : int64\n",
      "cratio  : 13.94\n",
      "cparams : {'blocksize': 4000,\n",
      " 'clevel': 9,\n",
      " 'codec': <Codec.ZSTD: 5>,\n",
      " 'codec_meta': 0,\n",
      " 'filters': [<Filter.BITSHUFFLE: 2>,\n",
      "             <Filter.NOFILTER: 0>,\n",
      "             <Filter.NOFILTER: 0>,\n",
      "             <Filter.NOFILTER: 0>,\n",
      "             <Filter.NOFILTER: 0>,\n",
      "             <Filter.NOFILTER: 0>],\n",
      " 'filters_meta': [0, 0, 0, 0, 0, 0],\n",
      " 'nthreads': 2,\n",
      " 'splitmode': <SplitMode.ALWAYS_SPLIT: 1>,\n",
      " 'typesize': 8,\n",
      " 'use_dict': 0}\n",
      "dparams : {'nthreads': 2}\n",
      "\n"
     ]
    }
   ],
   "source": [
    "cparams = {\n",
    "    \"codec\": blosc2.Codec.ZSTD,\n",
    "    \"clevel\": 9,\n",
    "    \"filters\": [blosc2.Filter.BITSHUFFLE],\n",
    "    \"filters_meta\": [0]\n",
    "}\n",
    "\n",
    "array2 = array1.copy(chunks=(500, 10), blocks=(50, 10), cparams=cparams)\n",
    "print(array2.info)"
   ]
  },
  {
   "cell_type": "markdown",
   "metadata": {},
   "source": [
    "## Metalayers and variable length metalayers\n",
    "\n",
    "We have seen that you can pass to the NDArray constructor any compression or decompression parameters that you may pass to a SChunk. Indeed, you can also pass the metalayer dict. Metalayers are small metadata for informing about the properties of data that is stored on a container. As explained in [the SChunk basics](00.schunk-basics.html), there are two kinds. The first one (`meta`), cannot be deleted, must be added at construction time and can only be updated with values that have the same bytes size as the old value. They are easy to access and edit by users:"
   ]
  },
  {
   "cell_type": "code",
   "execution_count": 12,
   "metadata": {
    "ExecuteTime": {
     "end_time": "2023-06-21T08:00:32.404708Z",
     "start_time": "2023-06-21T08:00:32.399889Z"
    }
   },
   "outputs": [],
   "source": [
    "meta = {\n",
    "    \"dtype\": \"i8\",\n",
    "    \"coords\": [5.14, 23.]\n",
    "}\n",
    "array = blosc2.zeros((1000, 1000), dtype=np.int16, chunks=(100, 100), blocks=(50, 50), meta=meta)"
   ]
  },
  {
   "cell_type": "markdown",
   "metadata": {},
   "source": [
    "You can work with them like if you were working with a dictionary. To access this dictionary you will use the SChunk attribute that an NDArray has."
   ]
  },
  {
   "cell_type": "code",
   "execution_count": 13,
   "metadata": {
    "ExecuteTime": {
     "end_time": "2023-06-21T08:00:32.414456Z",
     "start_time": "2023-06-21T08:00:32.409752Z"
    }
   },
   "outputs": [
    {
     "data": {
      "text/plain": "<blosc2.schunk.Meta at 0x7fede948f6d0>"
     },
     "execution_count": 13,
     "metadata": {},
     "output_type": "execute_result"
    }
   ],
   "source": [
    "array.schunk.meta"
   ]
  },
  {
   "cell_type": "code",
   "execution_count": 14,
   "metadata": {
    "ExecuteTime": {
     "end_time": "2023-06-21T08:00:32.493452Z",
     "start_time": "2023-06-21T08:00:32.419445Z"
    }
   },
   "outputs": [
    {
     "data": {
      "text/plain": "['b2nd', 'dtype', 'coords']"
     },
     "execution_count": 14,
     "metadata": {},
     "output_type": "execute_result"
    }
   ],
   "source": [
    "array.schunk.meta.keys()"
   ]
  },
  {
   "cell_type": "markdown",
   "metadata": {},
   "source": [
    "As you can see, Blosc2 internally uses these metalayers to store shapes, ndim, dtype, etc, and retrieve this data when needed in the `b2nd` metalayer."
   ]
  },
  {
   "cell_type": "code",
   "execution_count": 15,
   "metadata": {
    "ExecuteTime": {
     "end_time": "2023-06-21T08:00:32.512263Z",
     "start_time": "2023-06-21T08:00:32.437248Z"
    }
   },
   "outputs": [
    {
     "data": {
      "text/plain": "[0, 2, [1000, 1000], [100, 100], [50, 50], 0, '<i2']"
     },
     "execution_count": 15,
     "metadata": {},
     "output_type": "execute_result"
    }
   ],
   "source": [
    "array.schunk.meta[\"b2nd\"]"
   ]
  },
  {
   "cell_type": "code",
   "execution_count": 16,
   "metadata": {
    "ExecuteTime": {
     "end_time": "2023-06-21T08:00:32.513552Z",
     "start_time": "2023-06-21T08:00:32.482664Z"
    }
   },
   "outputs": [
    {
     "data": {
      "text/plain": "[5.14, 23.0]"
     },
     "execution_count": 16,
     "metadata": {},
     "output_type": "execute_result"
    }
   ],
   "source": [
    "array.schunk.meta[\"coords\"]"
   ]
  },
  {
   "cell_type": "markdown",
   "metadata": {},
   "source": [
    "To add a metalayer after the creation or a variable length metalayer, you can use the `vlmeta` accessor from the SChunk. As well as the `meta`, it works similarly to a dictionary."
   ]
  },
  {
   "cell_type": "code",
   "execution_count": 17,
   "metadata": {
    "ExecuteTime": {
     "end_time": "2023-06-21T08:00:32.752091Z",
     "start_time": "2023-06-21T08:00:32.505743Z"
    }
   },
   "outputs": [
    {
     "name": "stdout",
     "output_type": "stream",
     "text": [
      "{}\n"
     ]
    },
    {
     "data": {
      "text/plain": "{b'info1': 'This is an example', b'info2': 'of user meta handling'}"
     },
     "execution_count": 17,
     "metadata": {},
     "output_type": "execute_result"
    }
   ],
   "source": [
    "print(array.schunk.vlmeta.getall())\n",
    "array.schunk.vlmeta[\"info1\"] = \"This is an example\"\n",
    "array.schunk.vlmeta[\"info2\"] = \"of user meta handling\"\n",
    "array.schunk.vlmeta.getall()"
   ]
  },
  {
   "cell_type": "markdown",
   "metadata": {},
   "source": [
    "You can update them with a value larger than the original one:"
   ]
  },
  {
   "cell_type": "code",
   "execution_count": 18,
   "metadata": {
    "ExecuteTime": {
     "end_time": "2023-06-21T08:00:32.765230Z",
     "start_time": "2023-06-21T08:00:32.520262Z"
    }
   },
   "outputs": [
    {
     "data": {
      "text/plain": "{b'info1': 'This is a larger example', b'info2': 'of user meta handling'}"
     },
     "execution_count": 18,
     "metadata": {},
     "output_type": "execute_result"
    }
   ],
   "source": [
    "array.schunk.vlmeta[\"info1\"] = \"This is a larger example\"\n",
    "array.schunk.vlmeta.getall()"
   ]
  },
  {
   "cell_type": "markdown",
   "source": [
    "## Creating a NDArray from a NumPy array\n",
    "\n",
    "Let's create a NDArray from a NumPy array using the `asarray` constructor:"
   ],
   "metadata": {
    "collapsed": false
   }
  },
  {
   "cell_type": "code",
   "execution_count": 19,
   "outputs": [
    {
     "name": "stdout",
     "output_type": "stream",
     "text": [
      "type    : NDArray\n",
      "shape   : (100, 100, 100)\n",
      "chunks  : (100, 100, 100)\n",
      "blocks  : (32, 32, 32)\n",
      "dtype   : float64\n",
      "cratio  : 16.00\n",
      "cparams : {'blocksize': 262144,\n",
      " 'clevel': 1,\n",
      " 'codec': <Codec.ZSTD: 5>,\n",
      " 'codec_meta': 0,\n",
      " 'filters': [<Filter.NOFILTER: 0>,\n",
      "             <Filter.NOFILTER: 0>,\n",
      "             <Filter.NOFILTER: 0>,\n",
      "             <Filter.NOFILTER: 0>,\n",
      "             <Filter.NOFILTER: 0>,\n",
      "             <Filter.SHUFFLE: 1>],\n",
      " 'filters_meta': [0, 0, 0, 0, 0, 0],\n",
      " 'nthreads': 2,\n",
      " 'splitmode': <SplitMode.ALWAYS_SPLIT: 1>,\n",
      " 'typesize': 8,\n",
      " 'use_dict': 0}\n",
      "dparams : {'nthreads': 2}\n",
      "\n"
     ]
    }
   ],
   "source": [
    "shape = (100, 100, 100)\n",
    "dtype = np.float64\n",
    "nparray = np.linspace(0, 100, np.prod(shape), dtype=dtype).reshape(shape)\n",
    "b2ndarray = blosc2.asarray(nparray)\n",
    "print(b2ndarray.info)"
   ],
   "metadata": {
    "collapsed": false,
    "ExecuteTime": {
     "end_time": "2023-06-21T08:00:32.767643Z",
     "start_time": "2023-06-21T08:00:32.533106Z"
    }
   }
  },
  {
   "cell_type": "markdown",
   "source": [
    "## Building a NDArray from a buffer\n",
    "\n",
    "Furthermore, you can create a NDArray filled with data from a buffer:"
   ],
   "metadata": {
    "collapsed": false
   }
  },
  {
   "cell_type": "code",
   "execution_count": 20,
   "outputs": [
    {
     "name": "stdout",
     "output_type": "stream",
     "text": [
      "Compression ratio: 2.3465074245437014\n"
     ]
    },
    {
     "data": {
      "text/plain": "array([[[ -4.43078053,  -9.23140176,  -1.42970124,   7.86492952,\n           5.96161416],\n        [ -0.90332728,  14.4083556 ,  -0.19161072,  -6.78668455,\n          -5.36322617],\n        [ -1.2499399 ,   8.10738718,  14.07369165,   4.04316805,\n           0.76039683],\n        [ -1.66511563,   2.7451846 ,   3.31973828,  -1.01945568,\n          -2.45495568],\n        [  6.5559866 ,  -7.74970461,   5.35510224, -10.37733392,\n           0.86824383]],\n\n       [[  7.91110565,  -0.40447467,   7.88094809,   3.83898103,\n          11.58337252],\n        [  1.04113739,  10.72055765,  -0.5534428 ,   7.91836773,\n           6.02385272],\n        [  1.99058377,  -3.16799092,  10.99784718,  -6.20992068,\n          12.91831185],\n        [ 10.53330643, -21.32174973,  -3.44512813,   9.83905792,\n           4.70180599],\n        [  0.08870868,  -9.94890713,  -9.38701242,  -3.90103209,\n           1.5765455 ]],\n\n       [[  2.44583632,  -6.66355678,  -2.37807004, -12.04591163,\n           4.22702233],\n        [ 12.69183398,  -0.61888605, -12.94346083,  -6.91918876,\n           4.36953175],\n        [  6.27488254,   4.52587451,  12.33982864, -14.1952192 ,\n          -3.46676496],\n        [ -6.98178245,  10.46623047, -13.00180391, -10.77350567,\n         -24.71491188],\n        [ -7.13204972,   1.21495696,   3.08065113,   2.85208291,\n          -2.61822517]],\n\n       [[ -0.92494315,  -1.46548892, -13.9705728 ,   3.40364646,\n           2.09374566],\n        [ -9.51383598,  -3.24888007,   3.88454564,   5.53187191,\n          -4.96396877],\n        [ 15.61483826,   4.75573053,   1.68783593,   3.13862011,\n          -0.70019435],\n        [  7.40143569,   2.09006615,  -5.46560475,   3.17102481,\n          -1.62846898],\n        [ -8.27442159,  -6.75467196,  -5.78042193,  -4.11268787,\n          14.16364076]],\n\n       [[  2.162695  ,  -4.49314924, -10.24168921,  -0.4477694 ,\n          14.89148406],\n        [  6.58797389,   5.02060131,  -2.56318203,   3.86061618,\n          -5.3151115 ],\n        [  1.66120051,  -8.20778692,  -5.60655824,   5.58088148,\n           7.41097948],\n        [  3.10148596, -14.04411643,  -5.35322615,  -2.20927935,\n         -10.02980263],\n        [  1.89021378,  -8.34189781,   9.91391733,  -4.47349107,\n          -7.46036955]]])"
     },
     "execution_count": 20,
     "metadata": {},
     "output_type": "execute_result"
    }
   ],
   "source": [
    "buffer = bytes(np.random.normal(0, 1, np.prod(shape)) * 8)\n",
    "b2ndarray = blosc2.frombuffer(buffer, shape, dtype=dtype)\n",
    "print(\"Compression ratio:\", b2ndarray.schunk.cratio)\n",
    "b2ndarray[:5, :5, :5]"
   ],
   "metadata": {
    "collapsed": false,
    "ExecuteTime": {
     "end_time": "2023-06-21T08:00:32.787531Z",
     "start_time": "2023-06-21T08:00:32.600446Z"
    }
   }
  },
  {
   "cell_type": "markdown",
   "metadata": {},
   "source": [
    "That's all for now.  There are more examples in the [examples directory of the git repository](https://github.com/Blosc/python-blosc2/tree/main/examples/) for you to explore.  Enjoy!"
   ]
  }
 ],
 "metadata": {
  "kernelspec": {
   "display_name": "Python 3 (ipykernel)",
   "language": "python",
   "name": "python3"
  },
  "language_info": {
   "codemirror_mode": {
    "name": "ipython",
    "version": 3
   },
   "file_extension": ".py",
   "mimetype": "text/x-python",
   "name": "python",
   "nbconvert_exporter": "python",
   "pygments_lexer": "ipython3",
   "version": "3.9.7"
  }
 },
 "nbformat": 4,
 "nbformat_minor": 1
}
