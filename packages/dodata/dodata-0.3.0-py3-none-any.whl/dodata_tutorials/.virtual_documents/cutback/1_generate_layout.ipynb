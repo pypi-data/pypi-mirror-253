


import kfactory as kf
from generate_layout import top
import csv

c = top()
c.write_gds("test_chip.gds")
c.plot()





from gdsfactory.labels import get_test_manifest

ct = get_test_manifest(c, one_setting_per_column=True)
ct.to_csv("cell_table.csv", index=False)
print(ct)





import kfactory as kf
import csv

kf.kcl.read("test_chip.gds")
c = kf.kcl["top"]
sweep = c.kcl["cutback"]
csvpath = "device_table.csv"

analysis = "[cutback]"
analysis_parameters = "[{}]"
length = 20

with open(csvpath, "w") as f:
    writer = csv.writer(f)
    writer.writerow(
        [
            "cell",
            "x",
            "y",
            # "analysis",
            # "analysis_parameters",
        ]
    )
    iterator = sweep._kdb_cell.begin_instances_rec()
    iterator.targets = "cutback_component_add_fiber_array*"
    while not iterator.at_end():
        _c = c.kcl[iterator.inst_cell().cell_index()]
        name = _c.name
        _disp = (iterator.trans() * iterator.inst_trans()).disp
        params = name.split("-")  # we extract the width from the device name
        writer.writerow(
            [
                name,
                _disp.x,
                _disp.y,
                # analysis,
                # analysis_parameters,
            ]
        )
        iterator.next()





import pandas as pd

dt = pd.read_csv(csvpath)
dt





ct.set_index("cell", inplace=True)
dt.set_index("cell", inplace=True)
df = pd.merge(dt, ct, left_on="cell", right_index=True)
df


df.columns


df.to_csv("device_table.csv")
