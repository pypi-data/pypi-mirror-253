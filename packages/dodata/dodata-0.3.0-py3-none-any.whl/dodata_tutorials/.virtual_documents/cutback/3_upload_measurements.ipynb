


import doplaydo.dodata as dd
import pandas as pd
from tqdm.auto import tqdm
from pathlib import Path
import requests
import getpass


dd.settings.dodata_url





username = getpass.getuser()
PROJECT_NAME = f"cutback-{username}"
MEASUREMENTS_PATH = Path("6d4c615ff105/")
PROJECT_NAME





dd.project.delete(PROJECT_NAME).text








cell_extraction = [
    dd.project.Extraction(
        cell_name="cutback",
        cell_white_list=["^cutback_component_add_fiber_array"],
        min_hierarchy_lvl=0,
        max_hierarchy_lvl=0,
    )
]

dd.project.create(
    project_name=PROJECT_NAME,
    eda_file="test_chip.gds",
    lyp_file="generic.lyp",
    cell_extractions=cell_extraction,
).text





dm = pd.read_csv("device_table.csv")
dm


dd.project.upload_design_manifest(
    project_name=PROJECT_NAME, filepath="device_table.csv"
).text


dd.project.download_design_manifest(
    project_name=PROJECT_NAME, filepath="design_manifest_downloaded.csv"
)





dd.project.upload_wafer_definitions(
    project_name=PROJECT_NAME, filepath="wafer_definitions.json"
).text











data_files = list(MEASUREMENTS_PATH.glob("**/data.json"))
print(data_files[0].parts)





spectrum_measurement_type = dd.api.device_data.PlottingKwargs(
    x_name="wavelength",
    y_name="output_power",
    x_col="wavelength",
    # y_col=["output_power"],  # can also be a string for a single value
    y_col="output_power",
)





wafer_set = set()
die_set = set()
NUMBER_OF_THREADS = (
    dd.settings.n_threads if "127" not in dd.settings.dodata_url else 1
)  # for local testing use 1 thread
NUMBER_OF_THREADS


if NUMBER_OF_THREADS == 1:
    for path in tqdm(data_files):
        wafer_name = path.parts[0]
        die_x, die_y = path.parts[1].split("_")

        r = dd.api.device_data.upload(
            file=path,
            project_name=PROJECT_NAME,
            wafer_name=wafer_name,
            die_x=die_x,
            die_y=die_y,
            device_name=path.parts[2],
            data_type="measurement",
            plotting_kwargs=spectrum_measurement_type,
        )
        wafer_set.add(wafer_name)
        die_set.add(path.parts[2])
        r.raise_for_status()


data_files = list(MEASUREMENTS_PATH.glob("**/data.json"))
project_names = []
device_names = []
die_names = []
die_xs = []
die_ys = []
wafer_names = []
plotting_kwargs = []
data_types = []

for path in data_files:
    device_name = path.parts[2]
    die_name = path.parts[1]
    die_x, die_y = die_name.split("_")
    wafer_name = path.parts[0]

    device_names.append(device_name)
    die_names.append(die_name)
    die_xs.append(die_x)
    die_ys.append(die_y)
    wafer_names.append(wafer_name)
    plotting_kwargs.append(spectrum_measurement_type)
    project_names.append(PROJECT_NAME)
    data_types.append("measurement")


if NUMBER_OF_THREADS > 1:
    dd.device_data.upload_multi(
        files=data_files,
        project_names=project_names,
        wafer_names=wafer_names,
        die_xs=die_xs,
        die_ys=die_ys,
        device_names=device_names,
        data_types=data_types,
        plotting_kwargs=plotting_kwargs,
        progress_bar=True,
    )


wafer_set = set(wafer_names)
die_set = set(die_names)

print(wafer_set)
print(die_set)
print(len(die_set))











from IPython.display import Code, display, Image
import doplaydo.dodata as dd

display(Code(dd.config.Path.analysis_functions_die_cutback))





device_data, df = dd.get_data_by_query([dd.Project.name == PROJECT_NAME], limit=1)[0]
die_id = device_data.die.id
die_id


function_name = "die_cutback"


response = dd.api.analysis_functions.validate(
    function_name=function_name,
    function_path=dd.config.Path.analysis_functions_die_cutback,
    test_model_id=die_id,
    target_model_name="die",
    parameters=dict(key="components"),
)


Image(response.content)


response = dd.api.analysis_functions.validate_and_upload(
    function_name=function_name,
    function_path=dd.config.Path.analysis_functions_die_cutback,
    test_model_id=die_id,
    target_model_name="die",
)


database_dies = []


NUMBER_OF_THREADS = 1
NUMBER_OF_THREADS


if NUMBER_OF_THREADS == 1:
    print("running on a single thread")
    for wafer in wafer_set:
        for die_name in tqdm(die_set):
            die_x, die_y = die_name.split("_")
            r = dd.analysis.trigger_die(
                project_name=PROJECT_NAME,
                wafer_name=wafer,
                die_x=die_x,
                die_y=die_y,
                function_name=function_name,
                parameters={"key": "components"},
            )
            if r.status_code != 200:
                raise requests.HTTPError(r.text)
else:
    print("running using multiple threads")
    parameters = {"key": "components"}

    dd.analysis.trigger_die_multi(
        project_name=PROJECT_NAME,
        function_name=function_name,
        wafer_names=wafer_set,
        die_xs=die_xs,
        die_ys=die_ys,
        parameters=[parameters] * len(set(die_xs)),
        progress_bar=True,
    )


plots = dd.analysis.get_die_analysis_plots(
    project_name=PROJECT_NAME, wafer_name=wafer_names[0], die_x=0, die_y=0
)


len(plots)


for plot in plots:
    display(plot)








device_data, df = dd.get_data_by_query([dd.Project.name == PROJECT_NAME], limit=1)[0]
wafer_id = device_data.die.wafer.id
wafer_id


parameters = {
    "key": "components",
    "upper_spec": 0.11,
    "lower_spec": 0,
    "function_name": "die_cutback",
    "metric": "component_loss",
}

response = dd.api.analysis_functions.validate(
    function_name="wafer_loss_cutback",
    function_path=dd.config.Path.analysis_functions_wafer_loss_cutback,
    test_model_id=wafer_id,
    target_model_name="wafer",
    parameters=parameters,
)
Image(response.content)


response = dd.api.analysis_functions.validate_and_upload(
    function_name="wafer_loss_cutback",
    function_path=dd.config.Path.analysis_functions_wafer_loss_cutback,
    test_model_id=wafer_id,
    target_model_name="wafer",
    parameters=parameters,
)


for wafer in tqdm(wafer_set):
    for params in parameters:
        r = dd.analysis.trigger_wafer(
            project_name=PROJECT_NAME,
            wafer_name=wafer,
            function_name="wafer_loss_cutback",
            parameters=parameters,
        )
        if r.status_code != 200:
            raise requests.HTTPError(r.text)


plots = dd.analysis.get_wafer_analysis_plots(
    project_name=PROJECT_NAME,
    wafer_name=wafer_names[0],
)
len(plots)


for plot in plots:
    display(plot)
