


import doplaydo.dodata as dd
import pandas as pd
from pathlib import Path
from tqdm.auto import tqdm
import requests
import getpass

username = getpass.getuser()





PROJECT_NAME = f"rings-{username}"
MEASUREMENTS_PATH = Path("6d4c615ff105/")





dd.project.delete(project_name=PROJECT_NAME).text








cell_extraction = [
    dd.project.Extraction(
        cell_name="rings",
        cell_white_list=["^RingDouble"],
        min_hierarchy_lvl=0,
        max_hierarchy_lvl=0,
    )
]

dd.project.create(
    project_name=PROJECT_NAME,
    eda_file="test_chip.gds",
    lyp_file="generic.lyp",
    cell_extractions=cell_extraction,
).text





dm = pd.read_csv("design_manifest.csv")
dm





dm = dm.drop(columns=["analysis", "analysis_parameters"])
dm


dm.to_csv("design_manifest_without_analysis.csv", index=False)


dd.project.upload_design_manifest(
    project_name=PROJECT_NAME, filepath="design_manifest_without_analysis.csv"
).text


dd.project.download_design_manifest(
    project_name=PROJECT_NAME, filepath="design_manifest_downloaded.csv"
)





dd.project.upload_wafer_definitions(
    project_name=PROJECT_NAME, filepath="wafer_definitions.json"
).text











data_files = list(MEASUREMENTS_PATH.glob("**/data.json"))
print(data_files[0].parts)





spectrum_measurement_type = dd.api.device_data.PlottingKwargs(
    x_name="wavelength",
    y_name="output_power",
    x_col="wavelength",
    # y_col=["output_power"],  # can also be a string for a single value
    y_col="output_power",
)





NUMBER_OF_THREADS = 1 if "127" in dd.settings.dodata_url else dd.settings.n_threads
wafer_set = set()
die_set = set()
NUMBER_OF_THREADS


if NUMBER_OF_THREADS == 1:
    for path in tqdm(data_files):
        wafer_name = path.parts[0]
        die_x, die_y = path.parts[1].split("_")

        r = dd.api.device_data.upload(
            file=path,
            project_name=PROJECT_NAME,
            wafer_name=wafer_name,
            die_x=die_x,
            die_y=die_y,
            device_name=path.parts[2],
            data_type="measurement",
            plotting_kwargs=spectrum_measurement_type,
        )
        wafer_set.add(wafer_name)
        die_set.add(path.parts[2])
        r.raise_for_status()


data_files = list(MEASUREMENTS_PATH.glob("**/data.json"))
project_names = []
device_names = []
die_names = []
die_xs = []
die_ys = []
wafer_names = []
plotting_kwargs = []
data_types = []

for path in data_files:
    device_name = path.parts[2]
    die_name = path.parts[1]
    die_x, die_y = die_name.split("_")
    wafer_name = path.parts[0]

    device_names.append(device_name)
    die_names.append(die_name)
    die_xs.append(die_x)
    die_ys.append(die_y)
    die_set.add(die_name)
    wafer_names.append(wafer_name)
    plotting_kwargs.append(spectrum_measurement_type)
    project_names.append(PROJECT_NAME)
    data_types.append("measurement")
    wafer_set.add(wafer_name)


NUMBER_OF_THREADS = 1
if NUMBER_OF_THREADS > 1:
    dd.device_data.upload_multi(
        files=data_files,
        project_names=project_names,
        wafer_names=wafer_names,
        die_xs=die_xs,
        die_ys=die_ys,
        device_names=device_names,
        data_types=data_types,
        plotting_kwargs=plotting_kwargs,
        progress_bar=True,
    )











from IPython.display import Code, display, Image
import doplaydo.dodata as dd

display(Code(dd.config.Path.analysis_functions_device_fsr))





device_data, df = dd.get_data_by_query([dd.Project.name == PROJECT_NAME], limit=1)[0]
device_data.id


response = dd.api.analysis_functions.validate(
    function_name="device_fsr",
    function_path=dd.config.Path.analysis_functions_device_fsr,
    test_model_id=device_data.id,
    target_model_name="device_data",
    parameters=dict(height=-0.02),
)
Image(response.content)


response = dd.api.analysis_functions.validate_and_upload(
    function_name="device_fsr",
    function_path=dd.config.Path.analysis_functions_device_fsr,
    test_model_id=device_data.id,
    target_model_name="device_data",
    parameters=dict(height=-0.02),
)





device_attributes = {"radius_um": 10, "gap_um": 0.2}
parameters = {"height": -0.02}

response = dd.api.analysis_functions.validate(
    function_name="die_aggregate",
    function_path=dd.config.Path.analysis_functions_die_aggregate,
    test_model_id=device_data.die.id,
    target_model_name="die",
    parameters=dict(
        parameters=parameters,
        device_attributes=device_attributes,
        device_analysis_function="device_fsr",
        metric="fsr_mean",
    ),
)
Image(response.content)


response = dd.api.analysis_functions.validate_and_upload(
    function_name="die_aggregate",
    function_path=dd.config.Path.analysis_functions_die_aggregate,
    test_model_id=device_data.die.id,
    target_model_name="die",
    parameters=dict(
        parameters=parameters,
        device_attributes=device_attributes,
        device_analysis_function="device_fsr",
        metric="fsr_mean",
    ),
)





wafer_id = device_data.die.wafer.id
wafer_name = device_data.die.wafer.name
wafer_name


len(set(die_names))


response = dd.api.analysis_functions.validate(
    function_name="wafer_aggregate",
    function_path=dd.config.Path.analysis_functions_wafer_device_data_name,
    test_model_id=wafer_id,
    target_model_name="wafer",
    parameters=dict(device_name=device_data.device.name, lower_spec=4, upper_spec=5),
)
Image(response.content)


response = dd.api.analysis_functions.validate_and_upload(
    function_name="wafer_aggregate",
    function_path=dd.config.Path.analysis_functions_wafer_device_data_name,
    test_model_id=wafer_id,
    target_model_name="wafer",
    parameters=dict(device_name=device_data.device.name, lower_spec=4, upper_spec=5),
)





device_data, df = dd.get_data_by_query(
    [
        dd.Project.name == PROJECT_NAME,
        dd.attribute_filter(dd.Cell, "radius_um", 20),
        dd.attribute_filter(dd.Cell, "gap_um", 0.2),
    ],
    limit=1,
)[0]
device_data.device.name


device_data20, df = dd.get_data_by_query(
    [
        dd.Project.name == PROJECT_NAME,
        dd.attribute_filter(dd.Cell, "radius_um", 20),
        dd.attribute_filter(dd.Cell, "gap_um", 0.2),
    ],
    limit=1,
)[0]
device_data10, df = dd.get_data_by_query(
    [
        dd.Project.name == PROJECT_NAME,
        dd.attribute_filter(dd.Cell, "radius_um", 10),
        dd.attribute_filter(dd.Cell, "gap_um", 0.2),
    ],
    limit=1,
)[0]
device_data5, df = dd.get_data_by_query(
    [
        dd.Project.name == PROJECT_NAME,
        dd.attribute_filter(dd.Cell, "radius_um", 5),
        dd.attribute_filter(dd.Cell, "gap_um", 0.2),
    ],
    limit=1,
)[0]


# 5um radius rings
device_name = device_data5.device.name

for wafer in tqdm(wafer_set):
    for params in parameters:
        dd.analysis.trigger_device_data(
            project_name=PROJECT_NAME,
            device_name=device_name,
            function_name="device_fsr",
            parameters=dict(height=-0.02),
        )
        r = dd.analysis.trigger_wafer(
            project_name=PROJECT_NAME,
            wafer_name=wafer,
            function_name="wafer_aggregate",
            parameters=dict(device_name=device_name, lower_spec=15, upper_spec=22),
        )
        if r.status_code != 200:
            raise requests.HTTPError(r.text)


# 10um radius rings
device_name = device_data10.device.name

for wafer in tqdm(wafer_set):
    for params in parameters:
        dd.analysis.trigger_device_data(
            project_name=PROJECT_NAME,
            device_name=device_name,
            function_name="device_fsr",
            parameters=dict(height=-0.02),
        )
        r = dd.analysis.trigger_wafer(
            project_name=PROJECT_NAME,
            wafer_name=wafer,
            function_name="wafer_aggregate",
            parameters=dict(device_name=device_name, lower_spec=8, upper_spec=12),
        )
        if r.status_code != 200:
            raise requests.HTTPError(r.text)


# 20um radius rings
device_name = device_data20.device.name

for wafer in tqdm(wafer_set):
    for params in parameters:
        dd.analysis.trigger_device_data(
            project_name=PROJECT_NAME,
            device_name=device_name,
            function_name="device_fsr",
            parameters=dict(height=-0.02),
        )
        r = dd.analysis.trigger_wafer(
            project_name=PROJECT_NAME,
            wafer_name=wafer,
            function_name="wafer_aggregate",
            parameters=dict(device_name=device_name, lower_spec=4, upper_spec=6),
        )
        if r.status_code != 200:
            raise requests.HTTPError(r.text)


plots = dd.analysis.get_wafer_analysis_plots(
    project_name=PROJECT_NAME,
    wafer_name=wafer_names[0],
)
len(plots)


for plot in plots:
    display(plot)
